{
 "cells": [
  {
   "cell_type": "code",
   "execution_count": 2,
   "metadata": {},
   "outputs": [],
   "source": [
    "from lunax.data_processing.utils import *\n",
    "from lunax.models import xgb_clf\n",
    "from lunax.hyper_opt import OptunaTuner"
   ]
  },
  {
   "cell_type": "code",
   "execution_count": 3,
   "metadata": {},
   "outputs": [
    {
     "data": {
      "text/html": [
       "<div>\n",
       "<style scoped>\n",
       "    .dataframe tbody tr th:only-of-type {\n",
       "        vertical-align: middle;\n",
       "    }\n",
       "\n",
       "    .dataframe tbody tr th {\n",
       "        vertical-align: top;\n",
       "    }\n",
       "\n",
       "    .dataframe thead th {\n",
       "        text-align: right;\n",
       "    }\n",
       "</style>\n",
       "<table border=\"1\" class=\"dataframe\">\n",
       "  <thead>\n",
       "    <tr style=\"text-align: right;\">\n",
       "      <th></th>\n",
       "      <th>id</th>\n",
       "      <th>day</th>\n",
       "      <th>pressure</th>\n",
       "      <th>maxtemp</th>\n",
       "      <th>temparature</th>\n",
       "      <th>mintemp</th>\n",
       "      <th>dewpoint</th>\n",
       "      <th>humidity</th>\n",
       "      <th>cloud</th>\n",
       "      <th>sunshine</th>\n",
       "      <th>winddirection</th>\n",
       "      <th>windspeed</th>\n",
       "      <th>rainfall</th>\n",
       "    </tr>\n",
       "  </thead>\n",
       "  <tbody>\n",
       "    <tr>\n",
       "      <th>0</th>\n",
       "      <td>0</td>\n",
       "      <td>1</td>\n",
       "      <td>1017.4</td>\n",
       "      <td>21.2</td>\n",
       "      <td>20.6</td>\n",
       "      <td>19.9</td>\n",
       "      <td>19.4</td>\n",
       "      <td>87.0</td>\n",
       "      <td>88.0</td>\n",
       "      <td>1.1</td>\n",
       "      <td>60.0</td>\n",
       "      <td>17.2</td>\n",
       "      <td>1</td>\n",
       "    </tr>\n",
       "    <tr>\n",
       "      <th>1</th>\n",
       "      <td>1</td>\n",
       "      <td>2</td>\n",
       "      <td>1019.5</td>\n",
       "      <td>16.2</td>\n",
       "      <td>16.9</td>\n",
       "      <td>15.8</td>\n",
       "      <td>15.4</td>\n",
       "      <td>95.0</td>\n",
       "      <td>91.0</td>\n",
       "      <td>0.0</td>\n",
       "      <td>50.0</td>\n",
       "      <td>21.9</td>\n",
       "      <td>1</td>\n",
       "    </tr>\n",
       "    <tr>\n",
       "      <th>2</th>\n",
       "      <td>2</td>\n",
       "      <td>3</td>\n",
       "      <td>1024.1</td>\n",
       "      <td>19.4</td>\n",
       "      <td>16.1</td>\n",
       "      <td>14.6</td>\n",
       "      <td>9.3</td>\n",
       "      <td>75.0</td>\n",
       "      <td>47.0</td>\n",
       "      <td>8.3</td>\n",
       "      <td>70.0</td>\n",
       "      <td>18.1</td>\n",
       "      <td>1</td>\n",
       "    </tr>\n",
       "    <tr>\n",
       "      <th>3</th>\n",
       "      <td>3</td>\n",
       "      <td>4</td>\n",
       "      <td>1013.4</td>\n",
       "      <td>18.1</td>\n",
       "      <td>17.8</td>\n",
       "      <td>16.9</td>\n",
       "      <td>16.8</td>\n",
       "      <td>95.0</td>\n",
       "      <td>95.0</td>\n",
       "      <td>0.0</td>\n",
       "      <td>60.0</td>\n",
       "      <td>35.6</td>\n",
       "      <td>1</td>\n",
       "    </tr>\n",
       "    <tr>\n",
       "      <th>4</th>\n",
       "      <td>4</td>\n",
       "      <td>5</td>\n",
       "      <td>1021.8</td>\n",
       "      <td>21.3</td>\n",
       "      <td>18.4</td>\n",
       "      <td>15.2</td>\n",
       "      <td>9.6</td>\n",
       "      <td>52.0</td>\n",
       "      <td>45.0</td>\n",
       "      <td>3.6</td>\n",
       "      <td>40.0</td>\n",
       "      <td>24.8</td>\n",
       "      <td>0</td>\n",
       "    </tr>\n",
       "    <tr>\n",
       "      <th>...</th>\n",
       "      <td>...</td>\n",
       "      <td>...</td>\n",
       "      <td>...</td>\n",
       "      <td>...</td>\n",
       "      <td>...</td>\n",
       "      <td>...</td>\n",
       "      <td>...</td>\n",
       "      <td>...</td>\n",
       "      <td>...</td>\n",
       "      <td>...</td>\n",
       "      <td>...</td>\n",
       "      <td>...</td>\n",
       "      <td>...</td>\n",
       "    </tr>\n",
       "    <tr>\n",
       "      <th>2185</th>\n",
       "      <td>2185</td>\n",
       "      <td>361</td>\n",
       "      <td>1014.6</td>\n",
       "      <td>23.2</td>\n",
       "      <td>20.6</td>\n",
       "      <td>19.1</td>\n",
       "      <td>19.9</td>\n",
       "      <td>97.0</td>\n",
       "      <td>88.0</td>\n",
       "      <td>0.1</td>\n",
       "      <td>40.0</td>\n",
       "      <td>22.1</td>\n",
       "      <td>1</td>\n",
       "    </tr>\n",
       "    <tr>\n",
       "      <th>2186</th>\n",
       "      <td>2186</td>\n",
       "      <td>362</td>\n",
       "      <td>1012.4</td>\n",
       "      <td>17.2</td>\n",
       "      <td>17.3</td>\n",
       "      <td>16.3</td>\n",
       "      <td>15.3</td>\n",
       "      <td>91.0</td>\n",
       "      <td>88.0</td>\n",
       "      <td>0.0</td>\n",
       "      <td>50.0</td>\n",
       "      <td>35.3</td>\n",
       "      <td>1</td>\n",
       "    </tr>\n",
       "    <tr>\n",
       "      <th>2187</th>\n",
       "      <td>2187</td>\n",
       "      <td>363</td>\n",
       "      <td>1013.3</td>\n",
       "      <td>19.0</td>\n",
       "      <td>16.3</td>\n",
       "      <td>14.3</td>\n",
       "      <td>12.6</td>\n",
       "      <td>79.0</td>\n",
       "      <td>79.0</td>\n",
       "      <td>5.0</td>\n",
       "      <td>40.0</td>\n",
       "      <td>32.9</td>\n",
       "      <td>1</td>\n",
       "    </tr>\n",
       "    <tr>\n",
       "      <th>2188</th>\n",
       "      <td>2188</td>\n",
       "      <td>364</td>\n",
       "      <td>1022.3</td>\n",
       "      <td>16.4</td>\n",
       "      <td>15.2</td>\n",
       "      <td>13.8</td>\n",
       "      <td>14.7</td>\n",
       "      <td>92.0</td>\n",
       "      <td>93.0</td>\n",
       "      <td>0.1</td>\n",
       "      <td>40.0</td>\n",
       "      <td>18.0</td>\n",
       "      <td>1</td>\n",
       "    </tr>\n",
       "    <tr>\n",
       "      <th>2189</th>\n",
       "      <td>2189</td>\n",
       "      <td>365</td>\n",
       "      <td>1013.8</td>\n",
       "      <td>21.2</td>\n",
       "      <td>19.1</td>\n",
       "      <td>18.0</td>\n",
       "      <td>18.0</td>\n",
       "      <td>89.0</td>\n",
       "      <td>88.0</td>\n",
       "      <td>1.0</td>\n",
       "      <td>70.0</td>\n",
       "      <td>48.0</td>\n",
       "      <td>1</td>\n",
       "    </tr>\n",
       "  </tbody>\n",
       "</table>\n",
       "<p>2190 rows × 13 columns</p>\n",
       "</div>"
      ],
      "text/plain": [
       "        id  day  pressure  maxtemp  temparature  mintemp  dewpoint  humidity  \\\n",
       "0        0    1    1017.4     21.2         20.6     19.9      19.4      87.0   \n",
       "1        1    2    1019.5     16.2         16.9     15.8      15.4      95.0   \n",
       "2        2    3    1024.1     19.4         16.1     14.6       9.3      75.0   \n",
       "3        3    4    1013.4     18.1         17.8     16.9      16.8      95.0   \n",
       "4        4    5    1021.8     21.3         18.4     15.2       9.6      52.0   \n",
       "...    ...  ...       ...      ...          ...      ...       ...       ...   \n",
       "2185  2185  361    1014.6     23.2         20.6     19.1      19.9      97.0   \n",
       "2186  2186  362    1012.4     17.2         17.3     16.3      15.3      91.0   \n",
       "2187  2187  363    1013.3     19.0         16.3     14.3      12.6      79.0   \n",
       "2188  2188  364    1022.3     16.4         15.2     13.8      14.7      92.0   \n",
       "2189  2189  365    1013.8     21.2         19.1     18.0      18.0      89.0   \n",
       "\n",
       "      cloud  sunshine  winddirection  windspeed  rainfall  \n",
       "0      88.0       1.1           60.0       17.2         1  \n",
       "1      91.0       0.0           50.0       21.9         1  \n",
       "2      47.0       8.3           70.0       18.1         1  \n",
       "3      95.0       0.0           60.0       35.6         1  \n",
       "4      45.0       3.6           40.0       24.8         0  \n",
       "...     ...       ...            ...        ...       ...  \n",
       "2185   88.0       0.1           40.0       22.1         1  \n",
       "2186   88.0       0.0           50.0       35.3         1  \n",
       "2187   79.0       5.0           40.0       32.9         1  \n",
       "2188   93.0       0.1           40.0       18.0         1  \n",
       "2189   88.0       1.0           70.0       48.0         1  \n",
       "\n",
       "[2190 rows x 13 columns]"
      ]
     },
     "execution_count": 3,
     "metadata": {},
     "output_type": "execute_result"
    }
   ],
   "source": [
    "df_train = load_data('./example_data/classification/train.csv', 'csv')\n",
    "df_train"
   ]
  },
  {
   "cell_type": "code",
   "execution_count": 4,
   "metadata": {},
   "outputs": [],
   "source": [
    "target = 'rainfall'"
   ]
  },
  {
   "cell_type": "code",
   "execution_count": 5,
   "metadata": {},
   "outputs": [],
   "source": [
    "df_train = preprocess_data(df_train, target)"
   ]
  },
  {
   "cell_type": "code",
   "execution_count": 6,
   "metadata": {},
   "outputs": [],
   "source": [
    "X_train, X_val, y_train, y_val = split_data(df_train, target)"
   ]
  },
  {
   "cell_type": "code",
   "execution_count": 7,
   "metadata": {},
   "outputs": [
    {
     "name": "stdout",
     "output_type": "stream",
     "text": [
      "[lunax]> XGBoost Parameter Explanations:\n",
      "[Model complexity parameters]>\n",
      "- lambda: \tL2 regularization. Smoother than L1. Better for sparse data. Prevents overfitting.\n",
      "- reg_lambda/alpha: \tRegularization. Control model complexity. Prevents overfitting.\n",
      "- gamma: \tTREE ONLY. Minimum loss reduction for split. Prevents overfitting.\n",
      "- max_depth: \tHigher = more complex model. Prevents overfitting.\n",
      "- subsample: \tNumber of samples per tree. Prevents overfitting.\n",
      "- colsample_bytree: \tFraction of features used per tree. Prevents overfitting.\n",
      "- min_child_weight: \tMinimum sum of instance weight in a child. Prevents overfitting.\n",
      "\n",
      "\n",
      "[Training and Optimization Parameters]>\n",
      "- eta: \tLearning rate.\n",
      "- booster: \t\"gbtree\" for nonlinear features. \"gblinear\" for linear features\n",
      "- grow_policy: \tControls how new nodes are added to the tree. \"lossguide\" for best split. \"depthwise\" for best depth.\n",
      "\n",
      "\n"
     ]
    }
   ],
   "source": [
    "# 创建调参器 使用默认搜索空间\n",
    "tuner = OptunaTuner(\n",
    "    n_trials=3,\n",
    "    model_class=\"XGBClassifier\",\n",
    ")"
   ]
  },
  {
   "cell_type": "code",
   "execution_count": 8,
   "metadata": {},
   "outputs": [
    {
     "name": "stderr",
     "output_type": "stream",
     "text": [
      "[I 2025-05-18 10:29:37,890] A new study created in memory with name: no-name-6dd32dfa-fedc-46dc-932f-6ce342e1fa91\n",
      "[I 2025-05-18 10:29:38,004] Trial 0 finished with value: 0.8428005284015853 and parameters: {'booster': 'gbtree', 'seed': 0, 'eta': 0.08833908791174513, 'lambda': 2.4225320377074477, 'reg_lambda': 0.8723957621314598, 'reg_alpha': 172, 'gamma': 1.0209753596945967, 'subsample': 0.6519520101323723, 'max_depth': 9, 'colsample_bytree': 0.8377011452352459, 'min_child_weight': 3, 'grow_policy': 'lossguide'}. Best is trial 0 with value: 0.8428005284015853.\n",
      "[I 2025-05-18 10:29:38,070] Trial 1 finished with value: 0.8428005284015853 and parameters: {'booster': 'gbtree', 'seed': 0, 'eta': 0.19845267967590283, 'lambda': 31.01852685061465, 'reg_lambda': 0.9974665475528286, 'reg_alpha': 142, 'gamma': 3.5157874141976553, 'subsample': 0.9476895221170948, 'max_depth': 16, 'colsample_bytree': 0.8629092869352875, 'min_child_weight': 3, 'grow_policy': 'depthwise'}. Best is trial 0 with value: 0.8428005284015853.\n",
      "[I 2025-05-18 10:29:38,122] Trial 2 finished with value: 0.8428005284015853 and parameters: {'booster': 'gblinear', 'seed': 0, 'eta': 0.11896447348144494, 'lambda': 32.25434863697226, 'reg_lambda': 0.9646936304194217, 'reg_alpha': 45}. Best is trial 0 with value: 0.8428005284015853.\n"
     ]
    }
   ],
   "source": [
    "results = tuner.optimize(X_train, y_train, X_val, y_val)"
   ]
  },
  {
   "cell_type": "code",
   "execution_count": 9,
   "metadata": {},
   "outputs": [],
   "source": [
    "best_params = results['best_params']"
   ]
  },
  {
   "cell_type": "code",
   "execution_count": 10,
   "metadata": {},
   "outputs": [
    {
     "name": "stdout",
     "output_type": "stream",
     "text": [
      "[lunax]> Fold 1/5 - Accuracy: 0.7607, F1: 0.6573\n",
      "[lunax]> Fold 2/5 - Accuracy: 0.7578, F1: 0.6534\n",
      "[lunax]> Fold 3/5 - Accuracy: 0.7600, F1: 0.6564\n",
      "[lunax]> Fold 4/5 - Accuracy: 0.7600, F1: 0.6564\n",
      "[lunax]> Fold 5/5 - Accuracy: 0.7600, F1: 0.6564\n",
      "[lunax]> Average scores - Accuracy: 0.7597, F1: 0.6560\n"
     ]
    }
   ],
   "source": [
    "xgb_clf = xgb_clf(best_params)\n",
    "xgb_clf.fit(X_train, y_train,k_fold=5)"
   ]
  },
  {
   "cell_type": "code",
   "execution_count": 11,
   "metadata": {},
   "outputs": [
    {
     "name": "stdout",
     "output_type": "stream",
     "text": [
      "[lunax]> label information:\n",
      "+---------+---------+\n",
      "|   label |   count |\n",
      "+=========+=========+\n",
      "|       1 |     319 |\n",
      "+---------+---------+\n",
      "|       0 |     119 |\n",
      "+---------+---------+\n",
      "[lunax]> model evaluation results:\n",
      "+-----------+------------+-------------+----------+------+\n",
      "| metrics   |   accuracy |   precision |   recall |   f1 |\n",
      "+===========+============+=============+==========+======+\n",
      "| values    |       0.73 |        0.53 |     0.73 | 0.61 |\n",
      "+-----------+------------+-------------+----------+------+\n"
     ]
    },
    {
     "data": {
      "text/plain": [
       "{'accuracy': 0.728310502283105,\n",
       " 'precision': 0.5304361877358686,\n",
       " 'recall': 0.728310502283105,\n",
       " 'f1': 0.6138204761646249}"
      ]
     },
     "execution_count": 11,
     "metadata": {},
     "output_type": "execute_result"
    }
   ],
   "source": [
    "xgb_clf.evaluate(X_val, y_val)"
   ]
  }
 ],
 "metadata": {
  "kernelspec": {
   "display_name": "fafa",
   "language": "python",
   "name": "python3"
  },
  "language_info": {
   "codemirror_mode": {
    "name": "ipython",
    "version": 3
   },
   "file_extension": ".py",
   "mimetype": "text/x-python",
   "name": "python",
   "nbconvert_exporter": "python",
   "pygments_lexer": "ipython3",
   "version": "3.11.11"
  }
 },
 "nbformat": 4,
 "nbformat_minor": 2
}
