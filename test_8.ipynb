{
 "cells": [
  {
   "cell_type": "code",
   "execution_count": null,
   "metadata": {},
   "outputs": [],
   "source": [
    "from lunax.data_processing.utils import *\n",
    "from lunax.models import lgbm_reg\n",
    "from lunax.hyper_opt import OptunaTuner"
   ]
  },
  {
   "cell_type": "code",
   "execution_count": 2,
   "metadata": {},
   "outputs": [],
   "source": [
    "df_train = load_data('./example_data/regression/train.csv', 'csv')"
   ]
  },
  {
   "cell_type": "code",
   "execution_count": 3,
   "metadata": {},
   "outputs": [],
   "source": [
    "target = 'Listening_Time_minutes'\n",
    "df_train = preprocess_data(df_train, target)\n",
    "X_train, X_val, y_train, y_val = split_data(df_train, target)"
   ]
  },
  {
   "cell_type": "code",
   "execution_count": 7,
   "metadata": {},
   "outputs": [
    {
     "name": "stderr",
     "output_type": "stream",
     "text": [
      "[I 2025-05-12 11:53:07,803] A new study created in memory with name: no-name-f08e6401-d9ed-4032-bec7-9eb9d35ec32c\n"
     ]
    },
    {
     "name": "stdout",
     "output_type": "stream",
     "text": [
      "[LightGBM] [Info] Auto-choosing row-wise multi-threading, the overhead of testing was 0.005809 seconds.\n",
      "You can set `force_row_wise=true` to remove the overhead.\n",
      "And if memory is not enough, you can set `force_col_wise=true`.\n",
      "[LightGBM] [Info] Total Bins 1198\n",
      "[LightGBM] [Info] Number of data points in the train set: 600000, number of used features: 11\n",
      "[LightGBM] [Info] Start training from score 45.447808\n"
     ]
    },
    {
     "name": "stderr",
     "output_type": "stream",
     "text": [
      "[I 2025-05-12 11:53:11,579] Trial 0 finished with value: 170.6469491214264 and parameters: {}. Best is trial 0 with value: 170.6469491214264.\n"
     ]
    }
   ],
   "source": [
    "# 创建调参器 使用默认搜索空间\n",
    "tuner = OptunaTuner(\n",
    "    n_trials=1\n",
    ")\n",
    "\n",
    "# 执行优化\n",
    "results = tuner.optimize(\"LGBMRegressor\", X_train, y_train, X_val, y_val)\n",
    "\n",
    "# 获取最优参数\n",
    "best_params = results['best_params']"
   ]
  },
  {
   "cell_type": "code",
   "execution_count": null,
   "metadata": {},
   "outputs": [
    {
     "name": "stdout",
     "output_type": "stream",
     "text": [
      "[LightGBM] [Info] Auto-choosing row-wise multi-threading, the overhead of testing was 0.008156 seconds.\n",
      "You can set `force_row_wise=true` to remove the overhead.\n",
      "And if memory is not enough, you can set `force_col_wise=true`.\n",
      "[LightGBM] [Info] Total Bins 1198\n",
      "[LightGBM] [Info] Number of data points in the train set: 600000, number of used features: 11\n",
      "[LightGBM] [Info] Start training from score 45.447808\n",
      "[lunax]> model training finished.\n"
     ]
    }
   ],
   "source": [
    "model = lgbm_reg(best_params)\n",
    "model.fit(X_train, y_train)"
   ]
  },
  {
   "cell_type": "code",
   "execution_count": 9,
   "metadata": {},
   "outputs": [
    {
     "name": "stdout",
     "output_type": "stream",
     "text": [
      "[lunax]> target value description:\n",
      "+-------+--------+--------+-------+----------+\n",
      "|   min |    max |   mean |   std |   median |\n",
      "+=======+========+========+=======+==========+\n",
      "|     0 | 119.97 |   45.4 | 27.13 |    43.36 |\n",
      "+-------+--------+--------+-------+----------+\n",
      "[lunax]> model evaluation results:\n",
      "+-----------+--------+--------+-------+------+\n",
      "| metrics   |   rmse |    mse |   mae |   r2 |\n",
      "+===========+========+========+=======+======+\n",
      "| values    |  13.06 | 170.65 |  9.52 | 0.77 |\n",
      "+-----------+--------+--------+-------+------+\n"
     ]
    },
    {
     "data": {
      "text/plain": [
       "{'rmse': 13.063190617970266,\n",
       " 'mse': 170.6469491214264,\n",
       " 'mae': 9.523944017007635,\n",
       " 'r2': 0.7680883261521501}"
      ]
     },
     "execution_count": 9,
     "metadata": {},
     "output_type": "execute_result"
    }
   ],
   "source": [
    "model.evaluate(X_val, y_val)"
   ]
  }
 ],
 "metadata": {
  "kernelspec": {
   "display_name": "fafa",
   "language": "python",
   "name": "python3"
  },
  "language_info": {
   "codemirror_mode": {
    "name": "ipython",
    "version": 3
   },
   "file_extension": ".py",
   "mimetype": "text/x-python",
   "name": "python",
   "nbconvert_exporter": "python",
   "pygments_lexer": "ipython3",
   "version": "3.11.11"
  }
 },
 "nbformat": 4,
 "nbformat_minor": 2
}
